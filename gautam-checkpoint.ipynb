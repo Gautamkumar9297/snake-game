{
 "cells": [
  {
   "cell_type": "markdown",
   "id": "b1417a2a-c64c-4a6a-ba72-4e14d0fdfe10",
   "metadata": {},
   "source": [
    "**gautam kumar**"
   ]
  },
  {
   "cell_type": "code",
   "execution_count": 1,
   "id": "617cd4eb-ac3f-4010-b625-fe2be15861a1",
   "metadata": {},
   "outputs": [],
   "source": [
    "import numpy as np"
   ]
  },
  {
   "cell_type": "code",
   "execution_count": 9,
   "id": "8b879d0c-3d32-4a5b-98e9-c08e940aa172",
   "metadata": {},
   "outputs": [],
   "source": [
    "myarr=np.array([[3,4,8,90]],np.int8)"
   ]
  },
  {
   "cell_type": "code",
   "execution_count": 12,
   "id": "535b5d2d-7c8b-46a6-b8b9-2a3a76b30861",
   "metadata": {},
   "outputs": [
    {
     "data": {
      "text/plain": [
       "8"
      ]
     },
     "execution_count": 12,
     "metadata": {},
     "output_type": "execute_result"
    }
   ],
   "source": [
    "myarr[0, 2]"
   ]
  },
  {
   "cell_type": "code",
   "execution_count": 4,
   "id": "b3762dc5-7004-45b4-8bc6-4624b82b1eab",
   "metadata": {},
   "outputs": [
    {
     "data": {
      "text/plain": [
       "(1, 4)"
      ]
     },
     "execution_count": 4,
     "metadata": {},
     "output_type": "execute_result"
    }
   ],
   "source": [
    "myarr.shape "
   ]
  },
  {
   "cell_type": "code",
   "execution_count": 5,
   "id": "08e6ebe1-c66e-4c86-a5cb-a1eb7648a9c2",
   "metadata": {},
   "outputs": [
    {
     "data": {
      "text/plain": [
       "dtype('int8')"
      ]
     },
     "execution_count": 5,
     "metadata": {},
     "output_type": "execute_result"
    }
   ],
   "source": [
    "myarr.dtype"
   ]
  },
  {
   "cell_type": "markdown",
   "id": "3257752f-b284-4598-a298-b7e097304b44",
   "metadata": {},
   "source": [
    "**conversion from python data**"
   ]
  },
  {
   "cell_type": "code",
   "execution_count": 13,
   "id": "20a30535-9999-447b-860c-bafe61d0509d",
   "metadata": {},
   "outputs": [],
   "source": [
    "listarray=np.array([[1,2,3],[3,5,6],[8,5,3]])"
   ]
  },
  {
   "cell_type": "code",
   "execution_count": 14,
   "id": "ac1dd63f-3902-40e8-9057-e771b1d9f13e",
   "metadata": {},
   "outputs": [
    {
     "data": {
      "text/plain": [
       "array([[1, 2, 3],\n",
       "       [3, 5, 6],\n",
       "       [8, 5, 3]])"
      ]
     },
     "execution_count": 14,
     "metadata": {},
     "output_type": "execute_result"
    }
   ],
   "source": [
    "listarray"
   ]
  },
  {
   "cell_type": "code",
   "execution_count": 15,
   "id": "b4c77259-7947-42cc-b92c-3837ec420366",
   "metadata": {},
   "outputs": [],
   "source": [
    "zeros=np.zeros((5,6))"
   ]
  },
  {
   "cell_type": "code",
   "execution_count": 16,
   "id": "5ff7655f-bc81-4cc8-b2da-0a5fbc1b794c",
   "metadata": {},
   "outputs": [
    {
     "data": {
      "text/plain": [
       "array([[0., 0., 0., 0., 0., 0.],\n",
       "       [0., 0., 0., 0., 0., 0.],\n",
       "       [0., 0., 0., 0., 0., 0.],\n",
       "       [0., 0., 0., 0., 0., 0.],\n",
       "       [0., 0., 0., 0., 0., 0.]])"
      ]
     },
     "execution_count": 16,
     "metadata": {},
     "output_type": "execute_result"
    }
   ],
   "source": [
    "zeros"
   ]
  },
  {
   "cell_type": "code",
   "execution_count": 19,
   "id": "1abe74ac-0053-4b62-8177-abe098424cdf",
   "metadata": {},
   "outputs": [],
   "source": [
    "rng=np.arange(10)"
   ]
  },
  {
   "cell_type": "code",
   "execution_count": 20,
   "id": "c9c0010f-6cd4-4d7a-8ef7-b2efbd4289ac",
   "metadata": {},
   "outputs": [
    {
     "data": {
      "text/plain": [
       "array([0, 1, 2, 3, 4, 5, 6, 7, 8, 9])"
      ]
     },
     "execution_count": 20,
     "metadata": {},
     "output_type": "execute_result"
    }
   ],
   "source": [
    "rng"
   ]
  },
  {
   "cell_type": "code",
   "execution_count": 25,
   "id": "581a8210-80de-4cf0-831c-e2e649d35a0f",
   "metadata": {},
   "outputs": [],
   "source": [
    "lspace = np.linspace(1,5,4)"
   ]
  },
  {
   "cell_type": "code",
   "execution_count": 26,
   "id": "ad11ae64-c4e1-4c9c-8ece-20e077463d03",
   "metadata": {},
   "outputs": [
    {
     "data": {
      "text/plain": [
       "array([1.        , 2.33333333, 3.66666667, 5.        ])"
      ]
     },
     "execution_count": 26,
     "metadata": {},
     "output_type": "execute_result"
    }
   ],
   "source": [
    "lspace"
   ]
  },
  {
   "cell_type": "code",
   "execution_count": 28,
   "id": "01d0ac88-3e1a-45cf-a297-556ca02153fc",
   "metadata": {},
   "outputs": [],
   "source": [
    "emp=np.empty((5,7))"
   ]
  },
  {
   "cell_type": "code",
   "execution_count": 29,
   "id": "29d55670-dae4-446c-a266-edf85ce98218",
   "metadata": {},
   "outputs": [
    {
     "data": {
      "text/plain": [
       "array([[9.49423751e-312, 9.49404623e-312, 0.00000000e+000,\n",
       "        0.00000000e+000, 7.56571287e-307, 5.02034658e+175,\n",
       "        5.45761388e-066],\n",
       "       [5.26141839e-037, 1.28343977e+160, 3.40096565e+175,\n",
       "        1.38006597e-071, 1.07846801e-075, 3.83819517e+151,\n",
       "        2.59903818e-144],\n",
       "       [3.75829300e+199, 5.22411353e+257, 1.70098498e+256,\n",
       "        5.49109388e-143, 1.06396443e+224, 3.96041428e+246,\n",
       "        1.16318408e-028],\n",
       "       [7.86233523e-067, 6.81759934e-091, 1.43926545e+160,\n",
       "        6.45864094e+170, 4.25851522e-096, 1.16097020e-028,\n",
       "        1.26104862e-076],\n",
       "       [2.67489371e-028, 8.15243151e-043, 1.04917183e-153,\n",
       "        9.08366791e+223, 6.14415221e-144, 1.16466228e-028,\n",
       "        1.03788544e-314]])"
      ]
     },
     "execution_count": 29,
     "metadata": {},
     "output_type": "execute_result"
    }
   ],
   "source": [
    "emp"
   ]
  },
  {
   "cell_type": "code",
   "execution_count": 31,
   "id": "4ea664a2-237f-433a-a4e3-5748b6435356",
   "metadata": {},
   "outputs": [],
   "source": [
    "emp_like=np.empty_like(lspace)"
   ]
  },
  {
   "cell_type": "code",
   "execution_count": 32,
   "id": "cc60fcc2-2538-43da-b12c-4c912ec9767f",
   "metadata": {},
   "outputs": [
    {
     "data": {
      "text/plain": [
       "array([1.        , 2.33333333, 3.66666667, 5.        ])"
      ]
     },
     "execution_count": 32,
     "metadata": {},
     "output_type": "execute_result"
    }
   ],
   "source": [
    "emp_like"
   ]
  },
  {
   "cell_type": "code",
   "execution_count": 34,
   "id": "c1fbe110-83b7-4208-ae3e-2373b3eff7ad",
   "metadata": {},
   "outputs": [],
   "source": [
    "ide=np.identity(54)"
   ]
  },
  {
   "cell_type": "code",
   "execution_count": 35,
   "id": "df465654-6223-4666-b99c-d7a74a23f4a7",
   "metadata": {},
   "outputs": [
    {
     "data": {
      "text/plain": [
       "array([[1., 0., 0., ..., 0., 0., 0.],\n",
       "       [0., 1., 0., ..., 0., 0., 0.],\n",
       "       [0., 0., 1., ..., 0., 0., 0.],\n",
       "       ...,\n",
       "       [0., 0., 0., ..., 1., 0., 0.],\n",
       "       [0., 0., 0., ..., 0., 1., 0.],\n",
       "       [0., 0., 0., ..., 0., 0., 1.]])"
      ]
     },
     "execution_count": 35,
     "metadata": {},
     "output_type": "execute_result"
    }
   ],
   "source": [
    "ide"
   ]
  },
  {
   "cell_type": "code",
   "execution_count": 37,
   "id": "b918539b-f037-4e5e-ad63-509f0ee1d248",
   "metadata": {},
   "outputs": [
    {
     "data": {
      "text/plain": [
       "(54, 54)"
      ]
     },
     "execution_count": 37,
     "metadata": {},
     "output_type": "execute_result"
    }
   ],
   "source": [
    "ide.shape"
   ]
  },
  {
   "cell_type": "code",
   "execution_count": 47,
   "id": "d1561848-eb58-43d4-8c99-03edd246c752",
   "metadata": {},
   "outputs": [],
   "source": [
    "arr=np.arange(99)"
   ]
  },
  {
   "cell_type": "code",
   "execution_count": 48,
   "id": "1ee5bbd0-7a14-4bf1-b252-90c8961060f6",
   "metadata": {},
   "outputs": [
    {
     "data": {
      "text/plain": [
       "array([ 0,  1,  2,  3,  4,  5,  6,  7,  8,  9, 10, 11, 12, 13, 14, 15, 16,\n",
       "       17, 18, 19, 20, 21, 22, 23, 24, 25, 26, 27, 28, 29, 30, 31, 32, 33,\n",
       "       34, 35, 36, 37, 38, 39, 40, 41, 42, 43, 44, 45, 46, 47, 48, 49, 50,\n",
       "       51, 52, 53, 54, 55, 56, 57, 58, 59, 60, 61, 62, 63, 64, 65, 66, 67,\n",
       "       68, 69, 70, 71, 72, 73, 74, 75, 76, 77, 78, 79, 80, 81, 82, 83, 84,\n",
       "       85, 86, 87, 88, 89, 90, 91, 92, 93, 94, 95, 96, 97, 98])"
      ]
     },
     "execution_count": 48,
     "metadata": {},
     "output_type": "execute_result"
    }
   ],
   "source": [
    "arr"
   ]
  },
  {
   "cell_type": "code",
   "execution_count": 49,
   "id": "6476c17b-aebf-4740-9578-916df3dca648",
   "metadata": {},
   "outputs": [
    {
     "data": {
      "text/plain": [
       "array([[ 0,  1,  2,  3,  4,  5,  6,  7,  8,  9, 10, 11, 12, 13, 14, 15,\n",
       "        16, 17, 18, 19, 20, 21, 22, 23, 24, 25, 26, 27, 28, 29, 30, 31,\n",
       "        32],\n",
       "       [33, 34, 35, 36, 37, 38, 39, 40, 41, 42, 43, 44, 45, 46, 47, 48,\n",
       "        49, 50, 51, 52, 53, 54, 55, 56, 57, 58, 59, 60, 61, 62, 63, 64,\n",
       "        65],\n",
       "       [66, 67, 68, 69, 70, 71, 72, 73, 74, 75, 76, 77, 78, 79, 80, 81,\n",
       "        82, 83, 84, 85, 86, 87, 88, 89, 90, 91, 92, 93, 94, 95, 96, 97,\n",
       "        98]])"
      ]
     },
     "execution_count": 49,
     "metadata": {},
     "output_type": "execute_result"
    }
   ],
   "source": [
    "arr.reshape(3,33)"
   ]
  },
  {
   "cell_type": "code",
   "execution_count": 52,
   "id": "90784efa-88b1-4eb3-8c51-3773d231bddb",
   "metadata": {},
   "outputs": [
    {
     "data": {
      "text/plain": [
       "array([ 0,  1,  2,  3,  4,  5,  6,  7,  8,  9, 10, 11, 12, 13, 14, 15, 16,\n",
       "       17, 18, 19, 20, 21, 22, 23, 24, 25, 26, 27, 28, 29, 30, 31, 32, 33,\n",
       "       34, 35, 36, 37, 38, 39, 40, 41, 42, 43, 44, 45, 46, 47, 48, 49, 50,\n",
       "       51, 52, 53, 54, 55, 56, 57, 58, 59, 60, 61, 62, 63, 64, 65, 66, 67,\n",
       "       68, 69, 70, 71, 72, 73, 74, 75, 76, 77, 78, 79, 80, 81, 82, 83, 84,\n",
       "       85, 86, 87, 88, 89, 90, 91, 92, 93, 94, 95, 96, 97, 98])"
      ]
     },
     "execution_count": 52,
     "metadata": {},
     "output_type": "execute_result"
    }
   ],
   "source": [
    "arr.ravel()"
   ]
  },
  {
   "cell_type": "code",
   "execution_count": null,
   "id": "205f0a70-f049-4d30-8c7d-f94452a783ef",
   "metadata": {},
   "outputs": [],
   "source": []
  },
  {
   "cell_type": "code",
   "execution_count": null,
   "id": "d5d88025-d5b5-455c-b66a-e9edc75806a4",
   "metadata": {},
   "outputs": [],
   "source": []
  }
 ],
 "metadata": {
  "kernelspec": {
   "display_name": "Python 3 (ipykernel)",
   "language": "python",
   "name": "python3"
  },
  "language_info": {
   "codemirror_mode": {
    "name": "ipython",
    "version": 3
   },
   "file_extension": ".py",
   "mimetype": "text/x-python",
   "name": "python",
   "nbconvert_exporter": "python",
   "pygments_lexer": "ipython3",
   "version": "3.12.2"
  }
 },
 "nbformat": 4,
 "nbformat_minor": 5
}
